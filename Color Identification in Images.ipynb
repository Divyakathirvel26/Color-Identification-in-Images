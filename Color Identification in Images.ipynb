{
 "cells": [
  {
   "cell_type": "markdown",
   "id": "42b2c465",
   "metadata": {},
   "source": [
    "### Importing Libraries"
   ]
  },
  {
   "cell_type": "code",
   "execution_count": 1,
   "id": "66526aa5",
   "metadata": {},
   "outputs": [],
   "source": [
    "import cv2\n",
    "import pandas as pd"
   ]
  },
  {
   "cell_type": "markdown",
   "id": "cdbc89d5",
   "metadata": {},
   "source": [
    "### Reading CSV File and Image"
   ]
  },
  {
   "cell_type": "code",
   "execution_count": 3,
   "id": "5506a310",
   "metadata": {},
   "outputs": [],
   "source": [
    "index=['color','color_name','hex','R','G','B']\n",
    "df=pd.read_csv('colors.csv',names=index,header=None)\n",
    "img=cv2.imread('sample.jpg')\n",
    "img=cv2.resize(img,(800,600))\n",
    "\n",
    "clicked=False\n",
    "r=g=b=xpos=ypos=0"
   ]
  },
  {
   "cell_type": "markdown",
   "id": "fe2cd237",
   "metadata": {},
   "source": [
    "### Function to calculate Minimum distance"
   ]
  },
  {
   "cell_type": "code",
   "execution_count": 4,
   "id": "ab2d49f3",
   "metadata": {},
   "outputs": [],
   "source": [
    "def get_color_name(R,G,B):\n",
    "    minimum=10000\n",
    "    for i in range(len(df)):\n",
    "        d=abs(R-int(df.loc[i,'R'])) + abs(G-int(df.loc[i,'G'])) + abs(B-int(df.loc[i,'B']))\n",
    "        if d<=minimum:\n",
    "            minimum=d\n",
    "            cname=df.loc[i,'color_name']\n",
    "    return cname"
   ]
  },
  {
   "cell_type": "markdown",
   "id": "f90e9f45",
   "metadata": {},
   "source": [
    "### Function to draw"
   ]
  },
  {
   "cell_type": "code",
   "execution_count": 5,
   "id": "d822afd8",
   "metadata": {},
   "outputs": [],
   "source": [
    "def draw_function(event,x,y,flags,params):\n",
    "    if event==cv2.EVENT_LBUTTONDBLCLK:\n",
    "        global clicked,r,g,b,xpos,ypos\n",
    "        clicked=True\n",
    "        xpos=x\n",
    "        ypos=y\n",
    "        b,g,r=img[y,x]\n",
    "        b=int(b)\n",
    "        g=int(g)\n",
    "        r=int(r)"
   ]
  },
  {
   "cell_type": "markdown",
   "id": "a614c08c",
   "metadata": {},
   "source": [
    "### Draw a Rectangle to show output"
   ]
  },
  {
   "cell_type": "code",
   "execution_count": null,
   "id": "e428f720",
   "metadata": {},
   "outputs": [],
   "source": [
    "cv2.namedWindow(\"Color Detection\")\n",
    "cv2.setMouseCallback(\"Color Detection\",draw_function)\n",
    "while True:\n",
    "    cv2.imshow(\"Color Detection\",img)\n",
    "    if clicked==True:\n",
    "        cv2.rectangle(img,(20,20),(600,60),(b,g,r),-1)\n",
    "        text=get_color_name(r,g,b) + 'R=' + str(r) + 'G=' + str(g) + 'B=' + str(b)\n",
    "        cv2.putText(img,text,(50,50),2,0.8,(255,255,255),2,cv2.LINE_AA)\n",
    "        if r+g+b>=600:\n",
    "            cv2.putText(img,text,(50,50),2,0.8,(0,0,0),2,cv2.LINE_AA)\n",
    "    if cv2.waitKey(20) & 0xFF ==27:\n",
    "        break\n",
    "cv2.destroyAllWindows()"
   ]
  },
  {
   "cell_type": "code",
   "execution_count": null,
   "id": "e6e6045a",
   "metadata": {},
   "outputs": [],
   "source": []
  }
 ],
 "metadata": {
  "kernelspec": {
   "display_name": "Python 3",
   "language": "python",
   "name": "python3"
  },
  "language_info": {
   "codemirror_mode": {
    "name": "ipython",
    "version": 3
   },
   "file_extension": ".py",
   "mimetype": "text/x-python",
   "name": "python",
   "nbconvert_exporter": "python",
   "pygments_lexer": "ipython3",
   "version": "3.8.5"
  }
 },
 "nbformat": 4,
 "nbformat_minor": 5
}
